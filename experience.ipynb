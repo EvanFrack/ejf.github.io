{
  "cells": [
    {
      "cell_type": "raw",
      "metadata": {},
      "source": [
        "---\n",
        "title: \"Experience\"\n",
        "---"
      ],
      "id": "54b27a5b"
    },
    {
      "cell_type": "markdown",
      "metadata": {},
      "source": [
        "Supervisor of Production\n",
        "\n",
        "Reeve Store Equipment Co. \\| Pico Rivera, CA \\| June - August 2021\n"
      ],
      "id": "5ea9dcf8"
    },
    {
      "cell_type": "code",
      "metadata": {},
      "source": [
        "print(\"Interface with CAD department and production floor; inspect and receive incoming materials; drove stake bed trucks for pick up and deliveries\")"
      ],
      "id": "6c6e7331",
      "execution_count": null,
      "outputs": []
    }
  ],
  "metadata": {
    "kernelspec": {
      "display_name": "Python 3",
      "language": "python",
      "name": "python3"
    }
  },
  "nbformat": 4,
  "nbformat_minor": 5
}